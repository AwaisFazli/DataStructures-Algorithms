{
 "cells": [
  {
   "cell_type": "code",
   "execution_count": 5,
   "id": "83cfb1a3",
   "metadata": {},
   "outputs": [],
   "source": [
    "\n"
   ]
  },
  {
   "cell_type": "code",
   "execution_count": 47,
   "id": "70145290",
   "metadata": {},
   "outputs": [],
   "source": []
  },
  {
   "cell_type": "code",
   "execution_count": 71,
   "id": "af99cfad",
   "metadata": {},
   "outputs": [
    {
     "name": "stdout",
     "output_type": "stream",
     "text": [
      "liInvalid\n",
      "Valid Expression\n"
     ]
    }
   ],
   "source": [
    "stack = []\n",
    "expression =\"[[{{(())}}])]\"\n",
    "expression = list(expression)\n",
    "\n",
    "def is_bracket(char):\n",
    "    if char == \"[\" or char == \"{\" or char == \"(\" or char == \")\" or char == \"}\" or char == \"]\":return True\n",
    "    else:return False\n",
    "    \n",
    "def precedence(char):\n",
    "    if char == \"[\" or char == \"]\": return 1\n",
    "    elif char == \"{\" or char == \"}\": return 2\n",
    "    elif char == \"(\" or char == \")\": return 3\n",
    "\n",
    "def is_opening(char):\n",
    "    if char == \"[\" or char == \"{\" or  char == \"(\": return True\n",
    "\n",
    "i = 0\n",
    "while (i < len(expression)):\n",
    "    if is_bracket(expression[i]) == True and len(stack) == 0:\n",
    "        if is_opening(expression[i]): stack.append(expression[i])\n",
    "        else: \n",
    "            print(\"liInvalid\")\n",
    "            break\n",
    "\n",
    "    elif len(stack) != 0 and precedence(expression[i]) >= precedence(stack[-1]):\n",
    "        if is_opening(expression[i]): stack.append(expression[i])\n",
    "        else: stack.pop()\n",
    "    else:\n",
    "        print(\"fiInvalid\")\n",
    "        break                                                               \n",
    "    i += 1\n",
    "    \n",
    "if len(stack) == 0: print(\"Valid Expression\")\n",
    "else: print(\"Invalid Expression\")"
   ]
  },
  {
   "cell_type": "code",
   "execution_count": 56,
   "id": "1ff0fffb",
   "metadata": {},
   "outputs": [
    {
     "data": {
      "text/plain": [
       "[]"
      ]
     },
     "execution_count": 56,
     "metadata": {},
     "output_type": "execute_result"
    }
   ],
   "source": [
    "stack"
   ]
  },
  {
   "cell_type": "code",
   "execution_count": null,
   "id": "0fafeb01",
   "metadata": {},
   "outputs": [],
   "source": []
  }
 ],
 "metadata": {
  "kernelspec": {
   "display_name": "Python 3",
   "language": "python",
   "name": "python3"
  },
  "language_info": {
   "codemirror_mode": {
    "name": "ipython",
    "version": 3
   },
   "file_extension": ".py",
   "mimetype": "text/x-python",
   "name": "python",
   "nbconvert_exporter": "python",
   "pygments_lexer": "ipython3",
   "version": "3.8.8"
  }
 },
 "nbformat": 4,
 "nbformat_minor": 5
}
